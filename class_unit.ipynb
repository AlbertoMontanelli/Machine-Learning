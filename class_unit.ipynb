{
 "cells": [
  {
   "cell_type": "markdown",
   "metadata": {
    "colab_type": "text",
    "id": "view-in-github"
   },
   "source": [
    "<a href=\"https://colab.research.google.com/github/AlbertoMontanelli/Machine-Learning/blob/class_unit/class_unit.ipynb\" target=\"_parent\"><img src=\"https://colab.research.google.com/assets/colab-badge.svg\" alt=\"Open In Colab\"/></a>"
   ]
  },
  {
   "cell_type": "markdown",
   "metadata": {
    "id": "Or7oqcS1s9Cx"
   },
   "source": [
    "# Class: unit\n",
    "The single unit $i$ is described by the following attributes and methods:\n",
    "\n",
    "\n",
    "*   Input array -> $x_j$\n",
    "*   Weight array -> $w_{i,j}$\n",
    "*   Bias of the unit -> $b_i$\n",
    "*   Output value -> $f(\\sum_{j=0}^nw_{i,j}x_j+b_i)$ where f is the activation function, n the number of inputs\n",
    "\n"
   ]
  },
  {
   "cell_type": "code",
   "execution_count": null,
   "metadata": {
    "id": "loLq5Hba0Yji"
   },
   "outputs": [],
   "source": [
    "import numpy as np\n",
    "\n",
    "# dobbiamo scrivere anche le derivate\n",
    "\n",
    "def sigmoid(input_array, weight_array, bias):\n",
    "  return 1 / (1 + np.exp(-(np.dot(input_array, weight_array) + bias)))\n",
    "\n",
    "def tanh(input_array, weight_array, bias):\n",
    "  return np.tanh(np.dot(input_array, weight_array) + bias)\n",
    "\n",
    "def softmax(input_array, weight_array, bias):\n",
    "  return np.exp(np.dot(input_array, weight_array) + bias) / np.sum(np.exp(np.dot(input_array, weight_array) + bias))\n",
    "\n",
    "def softplus(input_array, weight_array, bias):\n",
    "  return np.log(1 + np.exp(np.dot(input_array, weight_array) + bias))\n",
    "\n",
    "def linear(input_array, weight_array, bias):\n",
    "  return np.dot(input_array, weight_array) + bias\n",
    "\n",
    "def ReLU(input_array, weight_array, bias):\n",
    "  return np.maximum(np.dot(input_array,weight_array) + bias, 0)\n",
    "\n",
    "class Unit:\n",
    "  def __init__(self, input_array, weight_array, bias, activation_function): #costruttore della classe, qua definisco gli attributi della classe\n",
    "    self.input_array = input_array\n",
    "    self.weight_array = weight_array\n",
    "    self.bias = bias\n",
    "    self.activation_function = activation_function\n",
    "    self.output_value = activation_function(input_array, weight_array, bias)"
   ]
  },
  {
   "cell_type": "markdown",
   "metadata": {
    "id": "lemDpYWti8DD"
   },
   "source": [
    "## Test for unit class:\n",
    "\n",
    "\n",
    "*   Verification of its working by a simple test with a monodimensional array of inputs, weights e bias\n",
    "*   Verification with multidimensional array and matrix products:\n",
    " *  input: $l$ (examples) x $n$ (features) -> we get a weight for each feature (it's indipendent by the number of patterns $l$). Then for the pattern $i$ we get $f(XW+b)=f(\\sum_{j=0}^nx_{i,j}w_j+b)$.\n",
    " *$k$ units: matrix $X = l$ x $n$, matrix $W$ = $n$ x $k$. Then we get a matrix output $A$ = $l$ x $k$. Each value in the matrix is the output of the activation function for the unit $k$ respect to the example $i$ (many columns as the number of the units, many rows as the number of the examples)\n",
    "\n"
   ]
  },
  {
   "cell_type": "code",
   "execution_count": 2,
   "metadata": {
    "colab": {
     "base_uri": "https://localhost:8080/"
    },
    "id": "Uj2hYB5QjZfQ",
    "outputId": "270fe9f2-26f5-4b6d-e62e-eb8a5d22db11"
   },
   "outputs": [
    {
     "name": "stdout",
     "output_type": "stream",
     "text": [
      "33\n",
      "[[1. 1. 1. 1. 1. 1. 1. 1. 1. 1.]\n",
      " [1. 1. 1. 1. 1. 1. 1. 1. 1. 1.]\n",
      " [1. 1. 1. 1. 1. 1. 1. 1. 1. 1.]\n",
      " [1. 1. 1. 1. 1. 1. 1. 1. 1. 1.]\n",
      " [1. 1. 1. 1. 1. 1. 1. 1. 1. 1.]]\n",
      "[[1. 1. 1. 1. 1. 1.]\n",
      " [1. 1. 1. 1. 1. 1.]\n",
      " [1. 1. 1. 1. 1. 1.]\n",
      " [1. 1. 1. 1. 1. 1.]\n",
      " [1. 1. 1. 1. 1. 1.]\n",
      " [1. 1. 1. 1. 1. 1.]\n",
      " [1. 1. 1. 1. 1. 1.]\n",
      " [1. 1. 1. 1. 1. 1.]\n",
      " [1. 1. 1. 1. 1. 1.]\n",
      " [1. 1. 1. 1. 1. 1.]]\n",
      "[[11.0000167 11.0000167 11.0000167 11.0000167 11.0000167 11.0000167]\n",
      " [11.0000167 11.0000167 11.0000167 11.0000167 11.0000167 11.0000167]\n",
      " [11.0000167 11.0000167 11.0000167 11.0000167 11.0000167 11.0000167]\n",
      " [11.0000167 11.0000167 11.0000167 11.0000167 11.0000167 11.0000167]\n",
      " [11.0000167 11.0000167 11.0000167 11.0000167 11.0000167 11.0000167]]\n"
     ]
    }
   ],
   "source": [
    "# monodimensional array\n",
    "x=np.array([1,2,3])\n",
    "w=np.array([4,5,6])\n",
    "b=1\n",
    "neuron = Unit(x, w, b, ReLU)\n",
    "output=neuron.output_value\n",
    "print(output)\n",
    "\n",
    "# multidimensional array\n",
    "x=np.ones((5,10)) #5 examples, 10 features\n",
    "w=np.ones((10,6)) #10 features, 6 units\n",
    "print(x)\n",
    "print(w)\n",
    "b=1\n",
    "neuron = Unit(x, w, b, softplus)\n",
    "output=neuron.output_value\n",
    "print(output) #we get 5x6 matrix"
   ]
  },
  {
   "cell_type": "markdown",
   "metadata": {},
   "source": [
    "## Class: Layer\n",
    "\n",
    "What we want to do now is implement two more classes: Layer and NeuralNetwork. The first represents a single layer of the neural network, which will consist of multiple neurons (units). The second manages multiple layers (we can decide the number)."
   ]
  },
  {
   "cell_type": "code",
   "execution_count": null,
   "metadata": {},
   "outputs": [],
   "source": [
    "class Layer:\n",
    "    def __init__(self, input_size, output_size, activation_function, activation_derivative):\n",
    "        # input_size = number of features\n",
    "        # output_size = number of units\n",
    "        self.weights = np.random.rand(input_size, output_size)*0.01 # intervallo compreso tra 0 e 1, siccome voglio valori molto vicino allo 0 moltiplico per un numero piccolo\n",
    "        self.biases = np.zeros(1, output_size) # i bias li inizializzo tutti a 0\n",
    "        self.activation_function = activation_function\n",
    "        self.activation_derivative = activation_derivative\n",
    "\n",
    "    # funzione che ci permette di calcolare gli output del layer. PRende come input l'output del layer precedente\n",
    "    def forward(self, input_array): \n",
    "        self.input = input_array # matrix of examples(1?) x features\n",
    "        self.z = np.dot(self.input, self.weights) + self.biases # examples x unit\n",
    "        self.output = self.activation_function(self.z)\n",
    "        return self.output\n",
    "    \n",
    "    def backward(self, d_output, learning_rate):\n",
    "        # m serve per normalizzare i gradienti e per far si che la backprop funzioni per batch di diverse dimensioni\n",
    "        # d_output: gradiente dell'output calcolato dalla Loss function per loutput layer\n",
    "        \n",
    "        m = self.input.shape[0] #number of examples. self.input.shape[1] = number of features\n",
    "        dz = d_output * self.activation_derivative(self.z)  # examples x unit. Sarebbe il delta_t, infatti dopo lo moltiplico per gli input per trovare il peso\n",
    "        \n",
    "        self.d_weights = np.dot(self.input.T, dz) / m #.T serve per calcolare la trasposta\n",
    "        self.d_biases = np.sum(dz, axis=0, keepdims=True) / m #somma gli elementi di dz lungo le righe (vuol dire sommare gli elementi di ogni colonna, sommo tutti gli esempi di ogni unità) 1 x n of units\n",
    "        #keepdims = True serve per far si che rimanga una matrice e non un array 1D\n",
    "        \n",
    "        self.d_input = np.dot(dz, self.weights.T) # passato al layer precedente per continuare la backprop, matrix examples x features (come imput)\n",
    "\n",
    "        #aggiornamento pesi e bias\n",
    "        self.weights -= learning_rate * self.d_weights\n",
    "        self.biases -= learning_rate * self.d_biases\n",
    "\n",
    "        return self.d_input\n"
   ]
  },
  {
   "cell_type": "markdown",
   "metadata": {},
   "source": [
    "## Class: Neural Network "
   ]
  },
  {
   "cell_type": "code",
   "execution_count": null,
   "metadata": {},
   "outputs": [],
   "source": [
    "class NauralNetwork:\n",
    "    def __init__(self):\n",
    "        self.layers = [] # questa riga serve ad inizializzare una lista vuota. tutti i layers che verranno creati verranno aggiunti a questa lista\n",
    "\n",
    "    def add_layer(self, layer):\n",
    "        self.layers.append(layer)\n",
    "    \n",
    "    # ora dobbiamo fare la backprop per tutti i layer\n",
    "    def forward(self, input_array): # questo input array sono proprio i dati che abbiamo a disposizione\n",
    "        for layer in self.layers:\n",
    "            input_array = layer.forward(input_array) # restituisce l'array di output e lo inserisco in input_array così da usarlo per il layer dopo\n",
    "\n",
    "        return input_array\n",
    "    \n",
    "    def backward(self, loss_gradient, learning_rate):\n",
    "        for layer in reversed(self.layers): # così attraversa la lista in ordine inverso. il gradiente dell'errore propaga all'inverso\n",
    "            loss_gradient = layer.backward(loss_gradient, learning_rate)\n",
    "    \n",
    "    # funzione di train\n",
    "    # x_train: dataset, examples x features\n",
    "    # y_train: examples x target (e se io i target non li ho?)\n",
    "    # epochs:  quante volte passo attraverso la rete neurale. Lo scelgo io??\n",
    "    # learning rate: lo scelgo io? come?\n",
    "    # loss function and derivative: MSE ( da definire sopra)\n",
    "\n",
    "    def train(self, x_train, y_train, epochs, learning_rate, loss_function, loss_function_derivative):\n",
    "        for epoch in range(epochs):\n",
    "            # Forward propagation\n",
    "            predictions = self.forward(x_train) # ritorna gli output dell'ultimo layer \n",
    "\n",
    "            # Compute loss and loss gradient for backward function\n",
    "            loss = loss_function(y_train, predictions)\n",
    "            loss_gradient = loss_function_derivative(y_train, predictions)\n",
    "\n",
    "            # Backward propagation\n",
    "            self.backward(loss_gradient, learning_rate)\n",
    "\n",
    "            # Print loss every 10 epochs\n",
    "            if epoch % 10 == 0:\n",
    "                print(f\"Epoch {epoch}, Loss: {loss}\")"
   ]
  }
 ],
 "metadata": {
  "accelerator": "GPU",
  "colab": {
   "authorship_tag": "ABX9TyNl1YgXp0edq5m6CgJv46pU",
   "gpuType": "T4",
   "include_colab_link": true,
   "provenance": []
  },
  "kernelspec": {
   "display_name": "Python 3",
   "name": "python3"
  },
  "language_info": {
   "name": "python"
  }
 },
 "nbformat": 4,
 "nbformat_minor": 0
}
