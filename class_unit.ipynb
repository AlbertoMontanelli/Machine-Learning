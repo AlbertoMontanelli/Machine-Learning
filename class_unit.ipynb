{
 "cells": [
  {
   "cell_type": "markdown",
   "metadata": {
    "colab_type": "text",
    "id": "view-in-github"
   },
   "source": [
    "<a href=\"https://colab.research.google.com/github/AlbertoMontanelli/Machine-Learning/blob/class_unit/class_unit.ipynb\" target=\"_parent\"><img src=\"https://colab.research.google.com/assets/colab-badge.svg\" alt=\"Open In Colab\"/></a>"
   ]
  },
  {
   "cell_type": "markdown",
   "metadata": {
    "id": "Or7oqcS1s9Cx"
   },
   "source": [
    "# Class: unit\n",
    "The single unit $i$ is described by the following attributes and methods:\n",
    "\n",
    "\n",
    "*   Input array -> $x_j$\n",
    "*   Weight array -> $w_{i,j}$\n",
    "*   Bias of the unit -> $b_i$\n",
    "*   Output value -> $f(\\sum_{j=0}^nw_{i,j}x_j+b_i)$ where f is the activation function, n the number of inputs\n",
    "\n"
   ]
  },
  {
   "cell_type": "code",
   "execution_count": 1,
   "metadata": {
    "id": "loLq5Hba0Yji"
   },
   "outputs": [],
   "source": [
    "import numpy as np\n",
    "\n",
    "\n",
    "def sigmoid(input_array, weight_array, bias):\n",
    "  return 1 / (1 + np.exp(-(np.dot(input_array, weight_array) + bias)))\n",
    "\n",
    "def tanh(input_array, weight_array, bias):\n",
    "  return np.tanh(np.dot(input_array, weight_array) + bias)\n",
    "\n",
    "def softmax(input_array, weight_array, bias):\n",
    "  return np.exp(np.dot(input_array, weight_array) + bias) / np.sum(np.exp(np.dot(input_array, weight_array) + bias))\n",
    "\n",
    "def softplus(input_array, weight_array, bias):\n",
    "  return np.log(1 + np.exp(np.dot(input_array, weight_array) + bias))\n",
    "\n",
    "def linear(input_array, weight_array, bias):\n",
    "  return np.dot(input_array, weight_array) + bias\n",
    "\n",
    "def ReLU(input_array, weight_array, bias):\n",
    "  return np.maximum(np.dot(input_array,weight_array) + bias, 0)\n",
    "\n",
    "class Unit:\n",
    "  def __init__(self, input_array, weight_array, bias, activation_function): #costruttore della classe, qua definisco gli attributi della classe\n",
    "    self.input_array = input_array\n",
    "    self.weight_array = weight_array\n",
    "    self.bias = bias\n",
    "    self.activation_function = activation_function\n",
    "    self.output_value = activation_function(input_array, weight_array, bias)\n"
   ]
  },
  {
   "cell_type": "markdown",
   "metadata": {
    "id": "lemDpYWti8DD"
   },
   "source": [
    "## Test for unit class:\n",
    "\n",
    "\n",
    "*   Verification of its working by a simple test with a monodimensional array of inputs, weights e bias\n",
    "*   Verification with multidimensional array and matrix products:\n",
    " *  input: $l$ (examples) x $n$ (features) -> we get a weight for each feature (it's indipendent by the number of patterns $l$). Then for the pattern $i$ we get $f(XW+b)=f(\\sum_{j=0}^nx_{i,j}w_j+b)$.\n",
    " *$k$ units: matrix $X = l$ x $n$, matrix $W$ = $n$ x $k$. Then we get a matrix output $A$ = $l$ x $k$. Each value in the matrix is the output of the activation function for the unit $k$ respect to the example $i$ (many columns as the number of the units, many rows as the number of the examples)\n",
    "\n"
   ]
  },
  {
   "cell_type": "code",
   "execution_count": 2,
   "metadata": {
    "colab": {
     "base_uri": "https://localhost:8080/"
    },
    "id": "Uj2hYB5QjZfQ",
    "outputId": "270fe9f2-26f5-4b6d-e62e-eb8a5d22db11"
   },
   "outputs": [
    {
     "name": "stdout",
     "output_type": "stream",
     "text": [
      "33\n",
      "[[1. 1. 1. 1. 1. 1. 1. 1. 1. 1.]\n",
      " [1. 1. 1. 1. 1. 1. 1. 1. 1. 1.]\n",
      " [1. 1. 1. 1. 1. 1. 1. 1. 1. 1.]\n",
      " [1. 1. 1. 1. 1. 1. 1. 1. 1. 1.]\n",
      " [1. 1. 1. 1. 1. 1. 1. 1. 1. 1.]]\n",
      "[[1. 1. 1. 1. 1. 1.]\n",
      " [1. 1. 1. 1. 1. 1.]\n",
      " [1. 1. 1. 1. 1. 1.]\n",
      " [1. 1. 1. 1. 1. 1.]\n",
      " [1. 1. 1. 1. 1. 1.]\n",
      " [1. 1. 1. 1. 1. 1.]\n",
      " [1. 1. 1. 1. 1. 1.]\n",
      " [1. 1. 1. 1. 1. 1.]\n",
      " [1. 1. 1. 1. 1. 1.]\n",
      " [1. 1. 1. 1. 1. 1.]]\n",
      "[[11.0000167 11.0000167 11.0000167 11.0000167 11.0000167 11.0000167]\n",
      " [11.0000167 11.0000167 11.0000167 11.0000167 11.0000167 11.0000167]\n",
      " [11.0000167 11.0000167 11.0000167 11.0000167 11.0000167 11.0000167]\n",
      " [11.0000167 11.0000167 11.0000167 11.0000167 11.0000167 11.0000167]\n",
      " [11.0000167 11.0000167 11.0000167 11.0000167 11.0000167 11.0000167]]\n"
     ]
    }
   ],
   "source": [
    "# monodimensional array\n",
    "x=np.array([1,2,3])\n",
    "w=np.array([4,5,6])\n",
    "b=1\n",
    "neuron = Unit(x, w, b, ReLU)\n",
    "output=neuron.output_value\n",
    "print(output)\n",
    "\n",
    "# multidimensional array\n",
    "x=np.ones((5,10)) #5 examples, 10 features\n",
    "w=np.ones((10,6)) #10 features, 6 units\n",
    "print(x)\n",
    "print(w)\n",
    "b=1\n",
    "neuron = Unit(x, w, b, softplus)\n",
    "output=neuron.output_value\n",
    "print(output) #we get 5x6 matrix"
   ]
  }
 ],
 "metadata": {
  "accelerator": "GPU",
  "colab": {
   "authorship_tag": "ABX9TyNl1YgXp0edq5m6CgJv46pU",
   "gpuType": "T4",
   "include_colab_link": true,
   "provenance": []
  },
  "kernelspec": {
   "display_name": "Python 3",
   "name": "python3"
  },
  "language_info": {
   "name": "python"
  }
 },
 "nbformat": 4,
 "nbformat_minor": 0
}
