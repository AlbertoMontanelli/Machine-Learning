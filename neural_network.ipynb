{
  "cells": [
    {
      "cell_type": "markdown",
      "metadata": {
        "id": "view-in-github",
        "colab_type": "text"
      },
      "source": [
        "<a href=\"https://colab.research.google.com/github/AlbertoMontanelli/Machine-Learning/blob/class_unit/neural_network.ipynb\" target=\"_parent\"><img src=\"https://colab.research.google.com/assets/colab-badge.svg\" alt=\"Open In Colab\"/></a>"
      ]
    },
    {
      "cell_type": "markdown",
      "source": [
        "# Notation conventions\n",
        "* **net** = $X \\cdot W+b$, $\\quad X$ : input matrix, $\\quad W$ : weights matrix, $\\quad b$ : bias array ; \\\\\n",
        "* **number of examples** = $l$ ;\n",
        "* **number of features** = $n$ ;\n",
        "* **input_size** : for the layer $i$ -> $k_{i-1}$ : number of the units of the previous layer $i-1$ ;\n",
        "* **outputz_size** : for the layer $i$ -> $k_{i}$ : number of the units of the current layer $i$;\n",
        "* **output_value** $=f(net)$ of the last layer, where $f$ is the activation function.\n",
        "\n",
        "### Input Layer $L_0$ with $k_0$ units :\n",
        "* input_size = $n$;\n",
        "* output_size = $k_0$;\n",
        "* net = $X \\cdot W +b$, $\\quad X$ : $l \\ \\textrm{x} \\ n$ matrix, $\\quad W: n \\ \\textrm{x} \\ k_0$ matrix, $\\quad b = 1 \\ \\textrm{x} \\ k_0$ array; \\\\\n",
        "$⇒$ net: $l \\ \\textrm{x} \\ k_0$ matrix.\n",
        "\n",
        "### Generic Layer $L_i$ with $k_i$ units :\n",
        "* input_size = $k_{i-1}$ ;\n",
        "* output_size = $k_i$ ;\n",
        "* net = $X \\cdot W+b$, $\\quad X$ : $l \\ \\textrm{x} \\ k_{i-1}$ matrix, $\\quad W: k_{i-1} \\ \\textrm{x} \\ k_i$ matrix, $\\quad b = 1 \\ \\textrm{x} \\ k_i$ array ; \\\\\n",
        "$⇒$ net : $l \\ \\textrm{x} \\ k_i$ matrix .\n",
        "\n",
        "### Online vs mini-batch version :\n",
        "* online version: $l$ = 1 ;\n",
        "* mini-batch version: $l$ = number of examples in the batch ."
      ],
      "metadata": {
        "id": "uT3nSmTsZ9NP"
      }
    },
    {
      "cell_type": "markdown",
      "source": [
        "#Activation functions\n",
        "Definition of the activation functions and their derivatives. \\\\\n",
        "Definition of the loss functions. \\\\\n",
        "scrivere come cambiano le loss nel caso online vs batch\n"
      ],
      "metadata": {
        "id": "o7La5v5wwHVP"
      }
    },
    {
      "cell_type": "code",
      "source": [
        "import numpy as np\n",
        "\n",
        "# dobbiamo capire come funziona il minibatch vs online\n",
        "# dobbiamo capire che funzioni di attivazione usare e quali derivate\n",
        "# da iniziare a fare successivamente: cross validation, test vs training error, ricerca di iperparametri (grid search, n layer, n unit,\n",
        "# learning rule), nr epochs/early stopping, tikhonov regularization, momentum, adaline e altre novelties\n",
        "\n",
        "def sigmoid(net):\n",
        "    return 1 / (1 + np.exp(-net))\n",
        "\n",
        "def d_sigmoid(net):\n",
        "    return np.exp(-net) / (1 + np.exp(-net))**2\n",
        "\n",
        "def tanh(net):\n",
        "    return np.tanh(net)\n",
        "\n",
        "def d_tanh(net):\n",
        "    return 1 - (np.tanh(net))**2\n",
        "\n",
        "\"\"\"   DA RIVEDERE\n",
        "\n",
        "def softmax(net):\n",
        "    return np.exp(net) / np.sum(np.exp(net), axis = 1, keepdims=True)\n",
        "\n",
        "def softmax_derivative(net):\n",
        "\n",
        "    # batch_size is the number of the rows in the matrix net; current_neuron_size is the number of the columns\n",
        "    batch_size, current_neuron_size = net.shape\n",
        "\n",
        "    # initialization of Jacobian tensor: each example in the batch (batch_size) is the input to current_neuron_size neurons,\n",
        "    # for each neuron we compute current_neuron_size derivatives with respect to the other neurons and itself. This results in a\n",
        "    # batch_size x current_neuron_size x current_neuron_size tensor.\n",
        "    jacobians = np.zeros((batch_size, current_neuron_size, current_neuron_size))\n",
        "\n",
        "    for i in range(batch_size): # for each example i in the batch\n",
        "        s = net[i].reshape(-1, 1)  # creation of a column vector of dimension current_neuron_size x 1, s contains all the features of\n",
        "                                   # the example i\n",
        "        jacobians[i] = np.diagflat(s) - np.dot(s, s.T)\n",
        "\n",
        "    return jacobians\n",
        "\"\"\"\n",
        "\n",
        "def softplus(net):\n",
        "    return np.log(1 + np.exp(net))\n",
        "\n",
        "def d_softplus(net):\n",
        "    return np.exp(net) / (1 + np.exp(net))\n",
        "\n",
        "def linear(net):\n",
        "    return net\n",
        "\n",
        "def d_linear(net):\n",
        "    return 1\n",
        "\n",
        "def ReLU(net):\n",
        "    return np.maximum(net, 0)\n",
        "\n",
        "def d_ReLU(net):\n",
        "    return 0 if(net<0) else 1\n",
        "\n",
        "def mean_squared_error(y_true, y_pred):\n",
        "    return np.sum((y_true - y_pred)**2)\n",
        "\n",
        "def d_mean_squared_error(y_true, y_pred):\n",
        "    return 2 * (y_true - y_pred)  # we'd get a minus but it's included in the computation of the learning rule\n",
        "\n",
        "def mean_euclidian_error(y_true, y_pred):\n",
        "    return np.sqrt(np.sum((y_true - y_pred)**2))\n",
        "\n",
        "def d_mean_euclidian_error(y_true, y_pred):\n",
        "    return (y_true - y_pred) / np.sqrt(np.sum((y_true - y_pred)**2))  # we'd get a minus but it's included in the computation of the learning rule"
      ],
      "metadata": {
        "id": "8Q7LVpTswQAh"
      },
      "execution_count": null,
      "outputs": []
    },
    {
      "cell_type": "markdown",
      "source": [
        "#  class Layer\n",
        "**Constructor parameters :**\n",
        " * input_size : $k_{i-1}$ ;\n",
        " * output_size : $k_i$ ;\n",
        " * activation_function ;\n",
        " * activation_derivative . \\\\\n",
        "\n",
        "**Constructor attributes :**\n",
        "* self.weights : $k_{i-1} \\ \\textrm{x} \\ k_i$ matrix . \\\\\n",
        "Initialized extracting randomly from a uniform distribution [-1/a, 1/a], where a = $\\sqrt{k_{i-1}}$ ;\n",
        "* self.biases : $1 \\ \\textrm{x} \\ k_i$ array. Initialized to zeros;\n",
        "* self.activation_function;\n",
        "* self.activation_derivative .\n",
        "\n",
        "**Methods :**\n",
        "* forward : DITEMI SE È GIUSTO\n",
        " * parameter :\n",
        "   * input_array : matrix $X$ (see above for the case $L_0$ or $L_i$) .\n",
        " * attributes :\n",
        "   * self.input : input_array ;\n",
        "   * self.net : net matrix $X \\cdot W + b$ (see above for the case $L_0$ or $L_i$) .\n",
        " * return -> output = $f(net)$, where $f$ is the activation function; $f(net)$ has the same dimensions of $net$.\n",
        "* backward :\n",
        " * parameters :\n",
        "   * d_Ep : target_value $-$ output_value, element by element; d_Ep is a $l \\ \\textrm{x} \\ number\\_of\\_targets$ matrix;\n",
        "   * learning_rate.\n",
        " * return -> sum_delta_weights $= \\delta \\cdot W^T$"
      ],
      "metadata": {
        "id": "rAFcEjML9we1"
      }
    },
    {
      "cell_type": "code",
      "execution_count": null,
      "metadata": {
        "collapsed": true,
        "id": "H8Ap9rLxLlNU"
      },
      "outputs": [],
      "source": [
        "class Layer:\n",
        "    def __init__(self, input_size, output_size, activation_function, activation_derivative):\n",
        "        self.weights = np.random.uniform(low=-1/np.sqrt(input_size), high=1/np.sqrt(input_size), size=(input_size, output_size))\n",
        "        self.biases = np.zeros((1, output_size))\n",
        "        self.activation_function = activation_function\n",
        "        self.activation_derivative = activation_derivative\n",
        "\n",
        "    # funzione che ci permette di calcolare gli output del layer. PRende come input l'output del layer precedente\n",
        "    def forward(self, input_array):\n",
        "        self.input = input_array # array 1D of previous unit or matrix with number of row = number of examples\n",
        "        self.net = np.dot(self.input, self.weights) + self.biases # if I have more than 1 exaples, numpy uses brodcasting\n",
        "        output = self.activation_function(self.net) #f(net)\n",
        "        return output\n",
        "\n",
        "    def backward(self, d_Ep, learning_rate):\n",
        "        # d_Ep = target - output solo per output layer, il resto delle volte d_Ep = sum_delta_weights\n",
        "        delta = d_Ep * self.activation_derivative(self.net)\n",
        "        self.weights += learning_rate * np.dot(self.input.T, delta)\n",
        "        self.biases += learning_rate * np.sum(delta, axis = 0, keepdims = True)\n",
        "        sum_delta_weights = np.dot(delta, self.weights.T)\n",
        "        return sum_delta_weights\n"
      ]
    },
    {
      "cell_type": "markdown",
      "source": [
        "#class NeuralNetwork"
      ],
      "metadata": {
        "id": "-rQI2lNkn83H"
      }
    },
    {
      "cell_type": "code",
      "source": [
        "class NeuralNetwork:\n",
        "    def __init__(self):\n",
        "        self.layers = [] # questa riga serve ad inizializzare una lista vuota. tutti i layers che verranno creati verranno aggiunti a questa lista\n",
        "\n",
        "    def add_layer(self, layer):\n",
        "        self.layers.append(layer)\n",
        "\n",
        "    # ora dobbiamo fare la backprop per tutti i layer\n",
        "    def forward(self, input): # questo input array sono proprio i dati che abbiamo a disposizione\n",
        "        for layer in self.layers:\n",
        "            input = layer.forward(input) # restituisce l'array di output e lo inserisco in input così da usarlo per il layer dopo\n",
        "        return input\n",
        "\n",
        "    def backward(self, d_Ep, learning_rate):\n",
        "        for layer in reversed(self.layers): # così attraversa la lista in ordine inverso. il gradiente dell'errore propaga all'inverso\n",
        "            d_Ep = layer.backward(d_Ep, learning_rate)\n",
        "\n",
        "    # x: dataset, examples x features\n",
        "    # epochs:  quante volte passo attraverso la rete neurale. Lo scelgo io??\n",
        "    # loss function and derivative: MSE\n",
        "\n",
        "    def train(self, x_train, target, epochs, learning_rate, loss_function, loss_function_derivative):\n",
        "        for epoch in range(epochs):\n",
        "            # Forward propagation\n",
        "            predictions = self.forward(x_train) # ritorna gli output dell'ultimo layer\n",
        "\n",
        "            # Compute loss and loss gradient for backward function\n",
        "            loss = loss_function(target, predictions)\n",
        "            loss_gradient = loss_function_derivative(target, predictions)\n",
        "\n",
        "            # Backward propagation\n",
        "            self.backward(loss_gradient, learning_rate)\n",
        "\n",
        "            # Print loss every 10 epochs\n",
        "            if epoch % 1 == 0:\n",
        "                print(f\"Epoch {epoch}, Loss: {loss}\")\n"
      ],
      "metadata": {
        "id": "EmtKxOEhn91Q"
      },
      "execution_count": null,
      "outputs": []
    },
    {
      "cell_type": "markdown",
      "source": [
        "#Unit Test"
      ],
      "metadata": {
        "id": "uT0LTc5_oFD2"
      }
    },
    {
      "cell_type": "code",
      "source": [
        "#test\n",
        "x = np.random.rand(3, 3)\n",
        "\n",
        "target = np.random.rand(3, 2)\n",
        "print('target:', target)\n",
        "print('\\n')\n",
        "\n",
        "layer_one = Layer(3, 2, linear, d_linear)\n",
        "\n",
        "layer_two = Layer(2, 2, linear, d_linear)\n",
        "\n",
        "NN = NeuralNetwork()\n",
        "NN.add_layer(layer_one)\n",
        "NN.add_layer(layer_two)\n",
        "NN.train(x, target, 2, 0.01, mean_squared_error, d_mean_squared_error)"
      ],
      "metadata": {
        "colab": {
          "base_uri": "https://localhost:8080/"
        },
        "id": "eT1dN_rEoKPO",
        "outputId": "a773232d-5b7b-43ec-c1d0-373d7dc0c170"
      },
      "execution_count": null,
      "outputs": [
        {
          "output_type": "stream",
          "name": "stdout",
          "text": [
            "target: [[0.03530235 0.14780322]\n",
            " [0.59554787 0.44419099]\n",
            " [0.47828313 0.72748292]]\n",
            "\n",
            "\n",
            "Epoch 0, Loss: 2.015579698952875\n",
            "Epoch 1, Loss: 1.7046882498737232\n"
          ]
        }
      ]
    }
  ],
  "metadata": {
    "colab": {
      "gpuType": "T4",
      "provenance": [],
      "include_colab_link": true
    },
    "kernelspec": {
      "display_name": "base",
      "language": "python",
      "name": "python3"
    },
    "language_info": {
      "codemirror_mode": {
        "name": "ipython",
        "version": 3
      },
      "file_extension": ".py",
      "mimetype": "text/x-python",
      "name": "python",
      "nbconvert_exporter": "python",
      "pygments_lexer": "ipython3",
      "version": "3.7.4"
    }
  },
  "nbformat": 4,
  "nbformat_minor": 0
}